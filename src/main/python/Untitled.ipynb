{
 "cells": [
  {
   "cell_type": "code",
   "execution_count": 1,
   "metadata": {},
   "outputs": [],
   "source": [
    "from utils.spark_utils import spark_session"
   ]
  },
  {
   "cell_type": "code",
   "execution_count": 2,
   "metadata": {},
   "outputs": [],
   "source": [
    "from graphframes import GraphFrame"
   ]
  },
  {
   "cell_type": "code",
   "execution_count": 3,
   "metadata": {},
   "outputs": [],
   "source": [
    "## magic for matplot draw in notebook\n",
    "\n",
    "%matplotlib inline\n",
    "\n",
    "import matplotlib\n",
    "import numpy as np\n",
    "import matplotlib.pyplot as plt"
   ]
  },
  {
   "cell_type": "code",
   "execution_count": 4,
   "metadata": {},
   "outputs": [
    {
     "data": {
      "image/png": "[encoded data removed]",
      "text/plain": [
       "<Figure size 432x288 with 1 Axes>"
      ]
     },
     "metadata": {
      "needs_background": "light"
     },
     "output_type": "display_data"
    }
   ],
   "source": [
    "plt.figure()\n",
    "\n",
    "plt.plot(np.arange(10),label= \"jajja\")\n",
    "plt.legend()\n",
    "plt.show()"
   ]
  },
  {
   "cell_type": "code",
   "execution_count": 6,
   "metadata": {},
   "outputs": [
    {
     "name": "stdout",
     "output_type": "stream",
     "text": [
      "+--------------------+--------------------+-----------+\n",
      "|                 src|                 dst|edge_weight|\n",
      "+--------------------+--------------------+-----------+\n",
      "|[jiubang.fastestf...|[emoji.keyboard.e...|          0|\n",
      "|[emoji.keyboard.e...|[enflick.android....|          0|\n",
      "|[enflick.android....|[emoji.keyboard.e...|          1|\n",
      "|[emoji.keyboard.t...|[emoji.keyboard.e...|          1|\n",
      "|[emoji.keyboard.e...|[kitkatandroid.ke...|          0|\n",
      "|[kitkatandroid.ke...|[emoji.keyboard.e...|          0|\n",
      "|[latininput.keybo...|[emoji.keyboard.e...|          1|\n",
      "|[emoji.keyboard.e...|[latininput.keybo...|          0|\n",
      "|[emoji.keyboard.t...|[jiubang.fastestf...|          1|\n",
      "|[jiubang.fastestf...|[enflick.android....|          0|\n",
      "|[enflick.android....|[jiubang.fastestf...|          1|\n",
      "|[jiubang.fastestf...|[emoji.keyboard.t...|          0|\n",
      "|  [jiubang.go.music]|[emoji.keyboard.e...|          1|\n",
      "|[kitkatandroid.ke...|[jiubang.fastestf...|          1|\n",
      "|[emoji.keyboard.e...|  [jiubang.go.music]|          0|\n",
      "|[emoji.keyboard.e...|[jiubang.fastestf...|          1|\n",
      "|  [jiubang.go.music]|[jiubang.fastestf...|          1|\n",
      "|[jiubang.fastestf...|[latininput.keybo...|          0|\n",
      "|[latininput.keybo...|[jiubang.fastestf...|          1|\n",
      "|[jiubang.fastestf...|[apalon.myclockfree]|          0|\n",
      "+--------------------+--------------------+-----------+\n",
      "only showing top 20 rows\n",
      "\n",
      "+--------------------+\n",
      "|                  id|\n",
      "+--------------------+\n",
      "|[emoji.keyboard.e...|\n",
      "|[outfit7.mytalkin...|\n",
      "|[jiubang.fastestf...|\n",
      "|[enflick.android....|\n",
      "|[emoji.keyboard.t...|\n",
      "|[kitkatandroid.ke...|\n",
      "|[latininput.keybo...|\n",
      "|[twentytwowords.com]|\n",
      "|[apalon.myclockfree]|\n",
      "|  [yoolotto.android]|\n",
      "|  [jiubang.go.music]|\n",
      "|  [thesportster.com]|\n",
      "|   [weather.weather]|\n",
      "|    [picsart.studio]|\n",
      "|     [adaudience.de]|\n",
      "|      [babygaga.com]|\n",
      "|      [myyearbook.m]|\n",
      "|      [magiquiz.com]|\n",
      "|       [yieldlab.de]|\n",
      "|       [mobi.ifunny]|\n",
      "+--------------------+\n",
      "only showing top 20 rows\n",
      "\n"
     ]
    }
   ],
   "source": [
    "\n",
    "gf = None\n",
    "\n",
    "spark = spark_session() \n",
    "\n",
    "ed_2 = spark.read.parquet(\"edges_prueba\")\n",
    "    \n",
    "ed_2.show()\n",
    "    \n",
    "\n",
    "ver_2 = spark.read.parquet(\"vert_prueba\")\n",
    "    \n",
    "ver_2.show()\n",
    "    \n",
    "    \n",
    "    \n",
    "    "
   ]
  },
  {
   "cell_type": "code",
   "execution_count": 6,
   "metadata": {},
   "outputs": [
    {
     "name": "stdout",
     "output_type": "stream",
     "text": [
      "/bin/sh: graphframes:graphframes:0.7.0-spark2.4-s_2.11: command not found\r\n"
     ]
    }
   ],
   "source": [
    "!PYSPARK_SUBMIT_ARGS=--packages graphframes:graphframes:0.7.0-spark2.4-s_2.11 "
   ]
  },
  {
   "cell_type": "code",
   "execution_count": 7,
   "metadata": {},
   "outputs": [],
   "source": [
    "spark.sparkContext.addPyFile('/Users/olaya/Desktop/spark-2.4.1-bin-hadoop2.7/jars/graphframes-assembly-0.7.1-SNAPSHOT-spark2.4.jar')\n"
   ]
  },
  {
   "cell_type": "code",
   "execution_count": 8,
   "metadata": {
    "scrolled": true
   },
   "outputs": [],
   "source": [
    "gf= GraphFrame(ver_2,ed_2)\n"
   ]
  },
  {
   "cell_type": "code",
   "execution_count": null,
   "metadata": {},
   "outputs": [],
   "source": []
  }
 ],
 "metadata": {
  "kernelspec": {
   "display_name": "Python 3",
   "language": "python",
   "name": "python3"
  },
  "language_info": {
   "codemirror_mode": {
    "name": "ipython",
    "version": 3
   },
   "file_extension": ".py",
   "mimetype": "text/x-python",
   "name": "python",
   "nbconvert_exporter": "python",
   "pygments_lexer": "ipython3",
   "version": "3.6.8"
  }
 },
 "nbformat": 4,
 "nbformat_minor": 2
}
